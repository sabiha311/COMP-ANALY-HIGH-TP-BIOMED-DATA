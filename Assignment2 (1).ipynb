{
  "cells": [
    {
      "cell_type": "code",
      "execution_count": null,
      "metadata": {
        "id": "zwFnJsE6vjf8",
        "outputId": "f60c15e4-d0e5-4507-d5c9-942f8bb44129",
        "colab": {
          "base_uri": "https://localhost:8080/"
        }
      },
      "outputs": [
        {
          "output_type": "stream",
          "name": "stderr",
          "text": [
            "<ipython-input-1-0f2cbec6de9c>:45: OptimizeWarning: Covariance of the parameters could not be estimated\n",
            "  popt, _ = curve_fit(exp_decay, t_valid, y_valid, p0=[10], maxfev=10000)\n"
          ]
        },
        {
          "output_type": "stream",
          "name": "stdout",
          "text": [
            "Calculated Half-Life Data:\n",
            "         Gene     Half_Life\n",
            "229   YOR347C  2.515127e+10\n",
            "2416  YDL223C  1.811149e+10\n",
            "3979  YBL098W  1.405650e+10\n",
            "3155  YDL023C  1.372263e+10\n",
            "6108  YDR535C  1.341090e+10\n",
            "\n",
            "Top 10% Half-Life Genes:\n",
            "         Gene     Half_Life\n",
            "229   YOR347C  2.515127e+10\n",
            "2416  YDL223C  1.811149e+10\n",
            "3979  YBL098W  1.405650e+10\n",
            "3155  YDL023C  1.372263e+10\n",
            "6108  YDR535C  1.341090e+10\n",
            "...       ...           ...\n",
            "3994  YDL057W  9.355139e+01\n",
            "3554  YLR112W  9.327800e+01\n",
            "4328  YER175C  9.326555e+01\n",
            "5661  YOL164W  9.309609e+01\n",
            "5769  YKL055C  9.296442e+01\n",
            "\n",
            "[615 rows x 2 columns]\n",
            "\n",
            "Bottom 10% Half-Life Genes:\n",
            "         Gene  Half_Life\n",
            "3780  YGL097W  14.860722\n",
            "1230  YNL112W  14.859477\n",
            "990   YEL037C  14.855587\n",
            "564   YLR093C  14.838200\n",
            "4402  YOR026W  14.835974\n",
            "...       ...        ...\n",
            "6145  YEL075C   0.210259\n",
            "6156  YGL260W   0.165824\n",
            "6149  YHL049C   0.157656\n",
            "6153  YPR202W   0.135142\n",
            "6151  YHR218W   0.117626\n",
            "\n",
            "[615 rows x 2 columns]\n"
          ]
        },
        {
          "output_type": "stream",
          "name": "stderr",
          "text": [
            "<ipython-input-1-0f2cbec6de9c>:11: RuntimeWarning: overflow encountered in exp\n",
            "  return np.exp(-t / tau)\n"
          ]
        }
      ],
      "source": [
        "import pandas as pd\n",
        "import numpy as np\n",
        "from scipy.optimize import curve_fit\n",
        "\n",
        "# Load the dataset\n",
        "file_path = \"DecayTimecourse.txt\"  # Update the path if needed\n",
        "df = pd.read_csv(file_path, delimiter=\"\\t\")\n",
        "\n",
        "# Function to model exponential decay: y = exp(-t/tau)\n",
        "def exp_decay(t, tau):\n",
        "    return np.exp(-t / tau)\n",
        "\n",
        "# Extract unique time points from the header\n",
        "time_points = np.array([0, 5, 10, 15, 20, 30, 40, 50, 60])\n",
        "\n",
        "# Clean dataset\n",
        "df_cleaned = df.iloc[1:].reset_index(drop=True)  # Skip first row (extra headers)\n",
        "df_cleaned.columns = df.iloc[0].tolist()  # Use first row as column headers\n",
        "df_cleaned = df_cleaned.dropna(axis=1, how=\"all\")  # Drop empty columns\n",
        "df_cleaned = df_cleaned.rename(columns={\"YORF\": \"Gene\"})  # Rename first column\n",
        "df_cleaned.iloc[:, 1:] = df_cleaned.iloc[:, 1:].apply(pd.to_numeric, errors=\"coerce\")  # Convert to float\n",
        "\n",
        "# Dictionary to store calculated half-lives\n",
        "half_lives = {}\n",
        "\n",
        "# Iterate over each gene to calculate half-life\n",
        "for index, row in df_cleaned.iterrows():\n",
        "    gene_id = row[\"Gene\"]\n",
        "\n",
        "    # Extract expression values for three replicates\n",
        "    expression_levels = row.iloc[1:].values.reshape(3, -1)  # Three time course replicates\n",
        "\n",
        "    gene_half_lives = []\n",
        "\n",
        "    for replicate in expression_levels:\n",
        "        replicate = pd.to_numeric(replicate, errors='coerce')  # Convert to numeric\n",
        "        valid_mask = ~np.isnan(replicate)  # Remove NaNs\n",
        "\n",
        "        if sum(valid_mask) > 2:  # Need at least 3 points to fit\n",
        "            t_valid = time_points[valid_mask]\n",
        "            y_valid = replicate[valid_mask]\n",
        "\n",
        "            # Fit exponential decay\n",
        "            try:\n",
        "                popt, _ = curve_fit(exp_decay, t_valid, y_valid, p0=[10], maxfev=10000)\n",
        "                gene_half_lives.append(popt[0])\n",
        "            except:\n",
        "                continue\n",
        "\n",
        "    # Compute mean half-life across three replicates\n",
        "    if gene_half_lives:\n",
        "        half_lives[gene_id] = np.mean(gene_half_lives)\n",
        "\n",
        "# Convert to DataFrame and sort\n",
        "half_life_df = pd.DataFrame(list(half_lives.items()), columns=[\"Gene\", \"Half_Life\"])\n",
        "half_life_df = half_life_df.sort_values(by=\"Half_Life\", ascending=False)\n",
        "\n",
        "# Identify top 10% and bottom 10%\n",
        "top_10_percent = half_life_df.head(int(len(half_life_df) * 0.1))\n",
        "bottom_10_percent = half_life_df.tail(int(len(half_life_df) * 0.1))\n",
        "\n",
        "# Save results\n",
        "half_life_df.to_csv(\"calculated_half_lives.csv\", index=False)\n",
        "top_10_percent.to_csv(\"top_10_percent_half_lives.csv\", index=False)\n",
        "bottom_10_percent.to_csv(\"bottom_10_percent_half_lives.csv\", index=False)\n",
        "\n",
        "# Display results\n",
        "print(\"Calculated Half-Life Data:\")\n",
        "print(half_life_df.head())\n",
        "\n",
        "print(\"\\nTop 10% Half-Life Genes:\")\n",
        "print(top_10_percent)\n",
        "\n",
        "print(\"\\nBottom 10% Half-Life Genes:\")\n",
        "print(bottom_10_percent)\n"
      ]
    },
    {
      "cell_type": "code",
      "source": [
        "import pandas as pd\n",
        "\n",
        "# Load the calculated half-life data\n",
        "half_life_df = pd.read_csv(\"calculated_half_lives.csv\")  # Update filename if needed\n",
        "\n",
        "# Identify top 10% and bottom 10% genes\n",
        "top_10_percent = half_life_df.head(int(len(half_life_df) * 0.1))\n",
        "bottom_10_percent = half_life_df.tail(int(len(half_life_df) * 0.1))\n",
        "\n",
        "# Extract gene names only\n",
        "top_10_genes = top_10_percent[\"Gene\"].tolist()\n",
        "bottom_10_genes = bottom_10_percent[\"Gene\"].tolist()\n",
        "\n",
        "# Save gene lists as text files (one gene per line, required format for g:Profiler)\n",
        "with open(\"top_10_percent_genes.txt\", \"w\") as f:\n",
        "    f.write(\"\\n\".join(top_10_genes))\n",
        "\n",
        "with open(\"bottom_10_percent_genes.txt\", \"w\") as f:\n",
        "    f.write(\"\\n\".join(bottom_10_genes))\n",
        "\n",
        "print(\"Top 10% genes saved to 'top_10_percent_genes.txt'\")\n",
        "print(\"Bottom 10% genes saved to 'bottom_10_percent_genes.txt'\")\n",
        "\n",
        "# Check first few genes for verification\n",
        "print(\"\\nSample Top 10% Genes:\\n\", top_10_genes[:10])\n",
        "print(\"\\nSample Bottom 10% Genes:\\n\", bottom_10_genes[:10])\n"
      ],
      "metadata": {
        "id": "HEm3-N8WVrpz",
        "outputId": "7d1405c3-469f-4444-f99b-a44b53e3b552",
        "colab": {
          "base_uri": "https://localhost:8080/"
        }
      },
      "execution_count": null,
      "outputs": [
        {
          "output_type": "stream",
          "name": "stdout",
          "text": [
            "Top 10% genes saved to 'top_10_percent_genes.txt'\n",
            "Bottom 10% genes saved to 'bottom_10_percent_genes.txt'\n",
            "\n",
            "Sample Top 10% Genes:\n",
            " ['YOR347C', 'YDL223C', 'YBL098W', 'YDL023C', 'YDR535C', 'YGR248W', 'YOL052C-A', 'YKR023W', 'YBL064C', 'YJL207C']\n",
            "\n",
            "Sample Bottom 10% Genes:\n",
            " ['YGL097W', 'YNL112W', 'YEL037C', 'YLR093C', 'YOR026W', 'YJL115W', 'YML125C', 'YOR229W', 'YOR301W', 'YCL016C']\n"
          ]
        }
      ]
    }
  ],
  "metadata": {
    "colab": {
      "provenance": []
    },
    "kernelspec": {
      "display_name": "Python 3",
      "name": "python3"
    }
  },
  "nbformat": 4,
  "nbformat_minor": 0
}